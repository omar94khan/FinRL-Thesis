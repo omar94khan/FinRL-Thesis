{
 "cells": [
  {
   "cell_type": "code",
   "execution_count": 167,
   "metadata": {},
   "outputs": [],
   "source": [
    "import numpy as np\n",
    "import pandas as pd\n",
    "import math\n",
    "import time\n",
    "import gym\n",
    "import matplotlib.pyplot as plt"
   ]
  },
  {
   "cell_type": "code",
   "execution_count": 168,
   "metadata": {},
   "outputs": [
    {
     "data": {
      "text/html": [
       "<div>\n",
       "<style scoped>\n",
       "    .dataframe tbody tr th:only-of-type {\n",
       "        vertical-align: middle;\n",
       "    }\n",
       "\n",
       "    .dataframe tbody tr th {\n",
       "        vertical-align: top;\n",
       "    }\n",
       "\n",
       "    .dataframe thead th {\n",
       "        text-align: right;\n",
       "    }\n",
       "</style>\n",
       "<table border=\"1\" class=\"dataframe\">\n",
       "  <thead>\n",
       "    <tr style=\"text-align: right;\">\n",
       "      <th></th>\n",
       "      <th>Price Open</th>\n",
       "      <th>Price Close</th>\n",
       "    </tr>\n",
       "  </thead>\n",
       "  <tbody>\n",
       "    <tr>\n",
       "      <th>0</th>\n",
       "      <td>2</td>\n",
       "      <td>3</td>\n",
       "    </tr>\n",
       "    <tr>\n",
       "      <th>1</th>\n",
       "      <td>3</td>\n",
       "      <td>4</td>\n",
       "    </tr>\n",
       "    <tr>\n",
       "      <th>2</th>\n",
       "      <td>4</td>\n",
       "      <td>5</td>\n",
       "    </tr>\n",
       "    <tr>\n",
       "      <th>3</th>\n",
       "      <td>5</td>\n",
       "      <td>6</td>\n",
       "    </tr>\n",
       "    <tr>\n",
       "      <th>4</th>\n",
       "      <td>6</td>\n",
       "      <td>10</td>\n",
       "    </tr>\n",
       "    <tr>\n",
       "      <th>5</th>\n",
       "      <td>10</td>\n",
       "      <td>15</td>\n",
       "    </tr>\n",
       "    <tr>\n",
       "      <th>6</th>\n",
       "      <td>15</td>\n",
       "      <td>20</td>\n",
       "    </tr>\n",
       "    <tr>\n",
       "      <th>7</th>\n",
       "      <td>20</td>\n",
       "      <td>12</td>\n",
       "    </tr>\n",
       "    <tr>\n",
       "      <th>8</th>\n",
       "      <td>12</td>\n",
       "      <td>11</td>\n",
       "    </tr>\n",
       "    <tr>\n",
       "      <th>9</th>\n",
       "      <td>11</td>\n",
       "      <td>10</td>\n",
       "    </tr>\n",
       "  </tbody>\n",
       "</table>\n",
       "</div>"
      ],
      "text/plain": [
       "   Price Open  Price Close\n",
       "0           2            3\n",
       "1           3            4\n",
       "2           4            5\n",
       "3           5            6\n",
       "4           6           10\n",
       "5          10           15\n",
       "6          15           20\n",
       "7          20           12\n",
       "8          12           11\n",
       "9          11           10"
      ]
     },
     "execution_count": 168,
     "metadata": {},
     "output_type": "execute_result"
    }
   ],
   "source": [
    "import pandas as pd\n",
    "\n",
    "data = pd.DataFrame({'Price Open' : [2,3,4,5,6,10,15,20,12,11],\n",
    "                      'Price Close' : [3,4,5,6,10,15,20,12,11,10]})\n",
    "\n",
    "data"
   ]
  },
  {
   "cell_type": "code",
   "execution_count": 169,
   "metadata": {},
   "outputs": [],
   "source": [
    "class FinRL:\n",
    "\n",
    "    def __init__(self):\n",
    "        self.action_space = ['Buy','Hold','Sell']\n",
    "        self.func = None\n",
    "\n",
    "    def load_data(self, data):\n",
    "        self.data = pd.DataFrame(data)\n",
    "        print(\"Data Loaded Successfully.\")\n",
    "    \n",
    "    def build_states(self):\n",
    "        try:\n",
    "            open_price = self.data['Price Open']\n",
    "            close_price = self.data['Price Close']\n",
    "            movement = close_price - open_price\n",
    "            return pd.DataFrame({'Price Open' : open_price,\n",
    "                    'Price Close' : close_price,\n",
    "                    'Movement' : movement})\n",
    "        except:\n",
    "            print(\"Please use the load_data function to load the data first.\")\n",
    "\n",
    "    def pipeline(self, window_size = 5):\n",
    "        avg_closing_price = []\n",
    "        for i in range(0, self.data.shape[0]-window_size):\n",
    "            avg_closing_price.append(self.data['Price Close'].values[i:i+window_size])\n",
    "\n",
    "        self.func = avg_closing_price\n",
    "        return avg_closing_price\n",
    "    \n",
    "    def pipeline_avgs(self):\n",
    "        return np.array(self.func).mean(axis = 1)\n",
    "\n"
   ]
  },
  {
   "cell_type": "code",
   "execution_count": 170,
   "metadata": {},
   "outputs": [],
   "source": [
    "test = FinRL()"
   ]
  },
  {
   "cell_type": "code",
   "execution_count": 171,
   "metadata": {},
   "outputs": [
    {
     "data": {
      "text/plain": [
       "['Buy', 'Hold', 'Sell']"
      ]
     },
     "execution_count": 171,
     "metadata": {},
     "output_type": "execute_result"
    }
   ],
   "source": [
    "test.action_space"
   ]
  },
  {
   "cell_type": "code",
   "execution_count": 172,
   "metadata": {},
   "outputs": [
    {
     "name": "stdout",
     "output_type": "stream",
     "text": [
      "Data Loaded Successfully.\n"
     ]
    }
   ],
   "source": [
    "test.load_data(data)"
   ]
  },
  {
   "cell_type": "code",
   "execution_count": 173,
   "metadata": {},
   "outputs": [
    {
     "data": {
      "text/html": [
       "<div>\n",
       "<style scoped>\n",
       "    .dataframe tbody tr th:only-of-type {\n",
       "        vertical-align: middle;\n",
       "    }\n",
       "\n",
       "    .dataframe tbody tr th {\n",
       "        vertical-align: top;\n",
       "    }\n",
       "\n",
       "    .dataframe thead th {\n",
       "        text-align: right;\n",
       "    }\n",
       "</style>\n",
       "<table border=\"1\" class=\"dataframe\">\n",
       "  <thead>\n",
       "    <tr style=\"text-align: right;\">\n",
       "      <th></th>\n",
       "      <th>Price Open</th>\n",
       "      <th>Price Close</th>\n",
       "    </tr>\n",
       "  </thead>\n",
       "  <tbody>\n",
       "    <tr>\n",
       "      <th>0</th>\n",
       "      <td>2</td>\n",
       "      <td>3</td>\n",
       "    </tr>\n",
       "    <tr>\n",
       "      <th>1</th>\n",
       "      <td>3</td>\n",
       "      <td>4</td>\n",
       "    </tr>\n",
       "    <tr>\n",
       "      <th>2</th>\n",
       "      <td>4</td>\n",
       "      <td>5</td>\n",
       "    </tr>\n",
       "    <tr>\n",
       "      <th>3</th>\n",
       "      <td>5</td>\n",
       "      <td>6</td>\n",
       "    </tr>\n",
       "    <tr>\n",
       "      <th>4</th>\n",
       "      <td>6</td>\n",
       "      <td>10</td>\n",
       "    </tr>\n",
       "    <tr>\n",
       "      <th>5</th>\n",
       "      <td>10</td>\n",
       "      <td>15</td>\n",
       "    </tr>\n",
       "    <tr>\n",
       "      <th>6</th>\n",
       "      <td>15</td>\n",
       "      <td>20</td>\n",
       "    </tr>\n",
       "    <tr>\n",
       "      <th>7</th>\n",
       "      <td>20</td>\n",
       "      <td>12</td>\n",
       "    </tr>\n",
       "    <tr>\n",
       "      <th>8</th>\n",
       "      <td>12</td>\n",
       "      <td>11</td>\n",
       "    </tr>\n",
       "    <tr>\n",
       "      <th>9</th>\n",
       "      <td>11</td>\n",
       "      <td>10</td>\n",
       "    </tr>\n",
       "  </tbody>\n",
       "</table>\n",
       "</div>"
      ],
      "text/plain": [
       "   Price Open  Price Close\n",
       "0           2            3\n",
       "1           3            4\n",
       "2           4            5\n",
       "3           5            6\n",
       "4           6           10\n",
       "5          10           15\n",
       "6          15           20\n",
       "7          20           12\n",
       "8          12           11\n",
       "9          11           10"
      ]
     },
     "execution_count": 173,
     "metadata": {},
     "output_type": "execute_result"
    }
   ],
   "source": [
    "test.data"
   ]
  },
  {
   "cell_type": "code",
   "execution_count": 174,
   "metadata": {},
   "outputs": [
    {
     "data": {
      "text/html": [
       "<div>\n",
       "<style scoped>\n",
       "    .dataframe tbody tr th:only-of-type {\n",
       "        vertical-align: middle;\n",
       "    }\n",
       "\n",
       "    .dataframe tbody tr th {\n",
       "        vertical-align: top;\n",
       "    }\n",
       "\n",
       "    .dataframe thead th {\n",
       "        text-align: right;\n",
       "    }\n",
       "</style>\n",
       "<table border=\"1\" class=\"dataframe\">\n",
       "  <thead>\n",
       "    <tr style=\"text-align: right;\">\n",
       "      <th></th>\n",
       "      <th>Price Open</th>\n",
       "      <th>Price Close</th>\n",
       "      <th>Movement</th>\n",
       "    </tr>\n",
       "  </thead>\n",
       "  <tbody>\n",
       "    <tr>\n",
       "      <th>0</th>\n",
       "      <td>2</td>\n",
       "      <td>3</td>\n",
       "      <td>1</td>\n",
       "    </tr>\n",
       "    <tr>\n",
       "      <th>1</th>\n",
       "      <td>3</td>\n",
       "      <td>4</td>\n",
       "      <td>1</td>\n",
       "    </tr>\n",
       "    <tr>\n",
       "      <th>2</th>\n",
       "      <td>4</td>\n",
       "      <td>5</td>\n",
       "      <td>1</td>\n",
       "    </tr>\n",
       "    <tr>\n",
       "      <th>3</th>\n",
       "      <td>5</td>\n",
       "      <td>6</td>\n",
       "      <td>1</td>\n",
       "    </tr>\n",
       "    <tr>\n",
       "      <th>4</th>\n",
       "      <td>6</td>\n",
       "      <td>10</td>\n",
       "      <td>4</td>\n",
       "    </tr>\n",
       "    <tr>\n",
       "      <th>5</th>\n",
       "      <td>10</td>\n",
       "      <td>15</td>\n",
       "      <td>5</td>\n",
       "    </tr>\n",
       "    <tr>\n",
       "      <th>6</th>\n",
       "      <td>15</td>\n",
       "      <td>20</td>\n",
       "      <td>5</td>\n",
       "    </tr>\n",
       "    <tr>\n",
       "      <th>7</th>\n",
       "      <td>20</td>\n",
       "      <td>12</td>\n",
       "      <td>-8</td>\n",
       "    </tr>\n",
       "    <tr>\n",
       "      <th>8</th>\n",
       "      <td>12</td>\n",
       "      <td>11</td>\n",
       "      <td>-1</td>\n",
       "    </tr>\n",
       "    <tr>\n",
       "      <th>9</th>\n",
       "      <td>11</td>\n",
       "      <td>10</td>\n",
       "      <td>-1</td>\n",
       "    </tr>\n",
       "  </tbody>\n",
       "</table>\n",
       "</div>"
      ],
      "text/plain": [
       "   Price Open  Price Close  Movement\n",
       "0           2            3         1\n",
       "1           3            4         1\n",
       "2           4            5         1\n",
       "3           5            6         1\n",
       "4           6           10         4\n",
       "5          10           15         5\n",
       "6          15           20         5\n",
       "7          20           12        -8\n",
       "8          12           11        -1\n",
       "9          11           10        -1"
      ]
     },
     "execution_count": 174,
     "metadata": {},
     "output_type": "execute_result"
    }
   ],
   "source": [
    "test.build_states()"
   ]
  },
  {
   "cell_type": "code",
   "execution_count": 175,
   "metadata": {},
   "outputs": [
    {
     "data": {
      "text/plain": [
       "[array([3, 4], dtype=int64),\n",
       " array([4, 5], dtype=int64),\n",
       " array([5, 6], dtype=int64),\n",
       " array([ 6, 10], dtype=int64),\n",
       " array([10, 15], dtype=int64),\n",
       " array([15, 20], dtype=int64),\n",
       " array([20, 12], dtype=int64),\n",
       " array([12, 11], dtype=int64)]"
      ]
     },
     "execution_count": 175,
     "metadata": {},
     "output_type": "execute_result"
    }
   ],
   "source": [
    "test.pipeline(window_size=2)"
   ]
  },
  {
   "cell_type": "code",
   "execution_count": 176,
   "metadata": {},
   "outputs": [
    {
     "data": {
      "text/plain": [
       "array([ 3.5,  4.5,  5.5,  8. , 12.5, 17.5, 16. , 11.5])"
      ]
     },
     "execution_count": 176,
     "metadata": {},
     "output_type": "execute_result"
    }
   ],
   "source": [
    "test.pipeline_avgs()"
   ]
  },
  {
   "cell_type": "code",
   "execution_count": 177,
   "metadata": {},
   "outputs": [],
   "source": [
    "text = \"\"\"\n",
    "        <option value=\"0\">-- All --</option>\n",
    "        <option value=\"10\">10-2nd File LHR payout December .xlsx</option>\n",
    "\t\t<option value=\"100\">100-KHI Fuel Payout April 26 - 28.xlsx</option>\n",
    "\t\t<option value=\"101\">101-LHR Payout 24th - 30th April.xlsx</option>\n",
    "\t\t<option value=\"102\">102-BulkUpload - 2023-05-04 Agencies and Reimbursements.xlsx</option>\n",
    "\t\t<option value=\"103\">103-ISB Rental FTM of April.xlsx</option>\n",
    "\t\t<option value=\"104\">104-ISB Payout 24th - 30th Apr.xlsx</option>\n",
    "\t\t<option value=\"105\">105-LHR Toll Payout Apr.xlsx</option>\n",
    "\t\t<option value=\"106\">106-LHR Rental Payout April .xlsx</option>\n",
    "\t\t<option value=\"11\">11-Reattempt of Stuck Payments 9-Jan.xlsx</option>\n",
    "\t\t<option value=\"12\">12-Karachi Fuel Payout.xlsx</option>\n",
    "\t\t<option value=\"13\">13-Lahore Fuel payout 2nd - 8th Jan.xlsx</option>\n",
    "\t\t<option value=\"14\">14-ISB Payout 2nd - 8th Jan .xlsx</option>\n",
    "\t\t<option value=\"15\">15-Missing Fuel (Dec).xlsx</option>\n",
    "\t\t<option value=\"16\">16-Karachi Fuel Payout 06-01-23 - 12-01-23.xlsx</option>\n",
    "\t\t<option value=\"17\">17-ISB Payout 9th - 15th Jan.xlsx</option>\n",
    "\t\t<option value=\"18\">18-LHR variable 9th - 15th Jan.xlsx</option>\n",
    "\t\t<option value=\"19\">19-Karachi Monthly Rent 11 Dec - 10 Jan.xlsx</option>\n",
    "\t\t<option value=\"2\">2-Testing File 2.xlsx</option>\n",
    "\t\t<option value=\"21\">21-BulkUpload - 2023-01-19-Omar-Samsung.xlsx</option>\n",
    "\t\t<option value=\"22\">22-BulkUpload - Loan Payoffs.xlsx</option>\n",
    "\t\t<option value=\"23\">23-BulkUpload - 2023-01-24 - Agencies and Deposits.xlsx</option>\n",
    "\t\t<option value=\"24\">24-Karachi Fuel Payout 13-01-23 - 19-01-23.xlsx</option>\n",
    "\t\t<option value=\"25\">25-ISB payout 16 - 22 Jan.xlsx</option>\n",
    "\t\t<option value=\"26\">26-LHR payout 16- 22 Jan.xlsx</option>\n",
    "\t\t<option value=\"27\">27-Karachi Fuel Payout 20-01-23 - 27-01-23.xlsx</option>\n",
    "\t\t<option value=\"28\">28-LHR variable 23rd - 29th Jan.xlsx</option>\n",
    "\t\t<option selected=\"selected\" value=\"29\">29-ISB Payout 23rd - 29th Jan.xlsx</option>\n",
    "\t\t<option value=\"3\">3-Islamabad Payout 26t Dec - 1st Jan.xlsx</option>\n",
    "\t\t<option value=\"30\">30-Karachi Fuel Payout 28-01-23 - 03-02-23.xlsx</option>\n",
    "\t\t<option value=\"31\">31-LHR variable 30th Jan - 5th Feb.xlsx</option>\n",
    "\t\t<option value=\"32\">32-ISB Payout 30th Jan - 5th Feb.xlsx</option>\n",
    "\t\t<option value=\"33\">33-LHR Toll Payout Jan.xlsx</option>\n",
    "\t\t<option value=\"34\">34-LHR JAN Rent Payout.xlsx</option>\n",
    "\t\t<option value=\"35\">35-ISB payout 6th - 12th Feb.xlsx</option>\n",
    "\t\t<option value=\"36\">36-LHR Payout 6th - 12th Feb.xlsx</option>\n",
    "\t\t<option value=\"37\">37-Karachi Fuel Payout 04-02-23 - 09-02-23.xlsx</option>\n",
    "\t\t<option value=\"38\">38-ISB payout 6th - 12th Feb (Reattempt).xlsx</option>\n",
    "\t\t<option value=\"39\">39-Karachi Rent Payout - January 2023.xlsx</option>\n",
    "\t\t<option value=\"4\">4-Lahore Variable Payout 26th Dec - 1st Jan.xlsx</option>\n",
    "\t\t<option value=\"40\">40-Update January Rent Payout 2023.xlsx</option>\n",
    "\t\t<option value=\"43\">43-Employee Reimbursements (21st Feb 2023).xlsx</option>\n",
    "\t\t<option value=\"44\">44-LHR variable 13th - 19th Feb.xlsx</option>\n",
    "\t\t<option value=\"45\">45-Fuel Payout ( 13-02-2023 - 18-02-2023.xlsx</option>\n",
    "\t\t<option value=\"46\">46-ISB Payout 13th - 19th Feb.xlsx</option>\n",
    "\t\t<option value=\"48\">48-BulkUpload - 2023-03-01 Agencies and Reimbursements.xlsx</option>\n",
    "\t\t<option value=\"49\">49-Fuel 19-02-23 - 24-02-23.xlsx</option>\n",
    "\t\t<option value=\"5\">5-Lahore Rent Payout FTM of Dec.xlsx</option>\n",
    "\t\t<option value=\"50\">50-LHR variable Payout 20th - 26th Feb.xlsx</option>\n",
    "\t\t<option value=\"51\">51-ISB Payout 20th - 26th Feb.xlsx</option>\n",
    "\t\t<option value=\"52\">52-Lahore FEB Rental.xlsx</option>\n",
    "\t\t<option value=\"53\">53-Lahore Feb Tolls.xlsx</option>\n",
    "\t\t<option value=\"54\">54-27-02-2023 - 03-02-2023 fuel payout.xlsx</option>\n",
    "\t\t<option value=\"55\">55-LHR Variable 27th Feb - 5th Mar.xlsx</option>\n",
    "\t\t<option value=\"56\">56-BulkUpload - 2023-03-09 Agencies and Reimbursements.xlsx</option>\n",
    "\t\t<option value=\"57\">57-ISB Payout 27th Feb - 5th Mar.xlsx</option>\n",
    "\t\t<option value=\"58\">58-27-02-23 -03-03-23.xlsx</option>\n",
    "\t\t<option value=\"59\">59-Feb - Rent Karachi 2023.xlsx</option>\n",
    "\t\t<option value=\"60\">60-Fuel  06-03-23 - 10-03 -23.xlsx</option>\n",
    "\t\t<option value=\"61\">61-LHR Variable Payout 6th - 12th Mar.xlsx</option>\n",
    "\t\t<option value=\"62\">62-ISB Payout 6 - 12 Mar.xlsx</option>\n",
    "\t\t<option value=\"64\">64-Feb 10-Mar 10 Karachi Rent.xlsx</option>\n",
    "\t\t<option value=\"65\">65-Marach 06 -10 Karachi Fuel.xlsx</option>\n",
    "\t\t<option value=\"66\">66-Fuel Payment March.xlsx</option>\n",
    "\t\t<option value=\"67\">67-ISB payout 13th - 19th March.xlsx</option>\n",
    "\t\t<option value=\"68\">68-LHR payout 13th - 19th March.xlsx</option>\n",
    "\t\t<option value=\"69\">69-Fuel Payment March 3.xlsx</option>\n",
    "\t\t<option value=\"7\">7-Toll Payout LHR FTM of Dec.xlsx</option>\n",
    "\t\t<option value=\"70\">70-ISB Payout 20th - 26th Mar.xlsx</option>\n",
    "\t\t<option value=\"71\">71-LHR Payout 20th-26th Mar.xlsx</option>\n",
    "\t\t<option value=\"72\">72-Fuel March 4.xlsx</option>\n",
    "\t\t<option value=\"73\">73-LHR payout 27th Mar - 2nd Apr.xlsx</option>\n",
    "\t\t<option value=\"74\">74-ISB Rent + Fuel (27Mar-2Apr).xlsx</option>\n",
    "\t\t<option value=\"75\">75-LHR Rent Payout Mar.xlsx</option>\n",
    "\t\t<option value=\"76\">76-LHR Toll Payout Mar.xlsx</option>\n",
    "\t\t<option value=\"77\">77-BulkUpload - 2023-04-10 Agencies and Reimbursements.xlsx</option>\n",
    "\t\t<option value=\"78\">78-Fuel Payout Apirl 03 - 07 .xlsx</option>\n",
    "\t\t<option value=\"79\">79-ISB payout 3rd - 9th April .xlsx</option>\n",
    "\t\t<option value=\"8\">8-LHR Rent Payout FTM of Dec.xlsx</option>\n",
    "\t\t<option value=\"80\">80-LHR Payout 3rd - 9th Apr.xlsx</option>\n",
    "\t\t<option value=\"81\">81-LHR Rental till 9th April.xlsx</option>\n",
    "\t\t<option value=\"82\">82-LHR Tolls Till 9th April.xlsx</option>\n",
    "\t\t<option value=\"83\">83-March Rent Retail.xlsx</option>\n",
    "\t\t<option value=\"84\">84-Fuel Payout April 10 - 14.xlsx</option>\n",
    "\t\t<option value=\"85\">85-ISB payout 10th - 16th April.xlsx</option>\n",
    "\t\t<option value=\"86\">86-LHR Eid Captain Bonus.xlsx</option>\n",
    "\t\t<option value=\"87\">87-LHR captain eid bonus 2.xlsx</option>\n",
    "\t\t<option value=\"88\">88-Captain Bonus.xlsx</option>\n",
    "\t\t<option value=\"89\">89-LHR Variable 10th - 16th April.xlsx</option>\n",
    "\t\t<option value=\"9\">9-LHR Toll Payout FTM of Dec.xlsx</option>\n",
    "\t\t<option value=\"90\">90-Eid Bonus.xlsx</option>\n",
    "\t\t<option value=\"91\">91-ISB Eid Captain Bonus.xlsx</option>\n",
    "\t\t<option value=\"92\">92-ISB Eid Bonus Reattempt 1.xlsx</option>\n",
    "\t\t<option value=\"93\">93-BulkUpload - Employee Eidi.xlsx</option>\n",
    "\t\t<option value=\"94\">94-LHR Eid Bonus Reattempt 1.xlsx</option>\n",
    "\t\t<option value=\"95\">95-LHR Eid Bonus Reattempt 2.xlsx</option>\n",
    "\t\t<option value=\"96\">96-LHR Eid Bonus Reattempt 3.xlsx</option>\n",
    "\t\t<option value=\"97\">97-LHR Payout 17th - 23rd April.xlsx</option>\n",
    "\t\t<option value=\"98\">98-ISB payout 17th - 23rd April.xlsx</option>\n",
    "\t\t<option value=\"99\">99-Fuel Payout April 17 - 20.xlsx</option>\n",
    "\t\t<option value=\"SI\">SI</option>\n",
    "\"\"\"\n",
    "\n",
    "text.split(\".xlsx\")\n",
    "\n",
    "text_list = []\n",
    "\n",
    "for i in text.split('.xlsx'):\n",
    "    text_list.append(i.split(\">\")[2])\n",
    "\n",
    "text_list\n",
    "\n",
    "import pandas as pd\n",
    "\n",
    "pd.DataFrame(text_list[1:]).to_csv(r'text_list.csv')"
   ]
  },
  {
   "cell_type": "code",
   "execution_count": 178,
   "metadata": {},
   "outputs": [],
   "source": [
    "from InvestopediaApi import ita"
   ]
  },
  {
   "cell_type": "code",
   "execution_count": 179,
   "metadata": {},
   "outputs": [],
   "source": [
    "import config\n",
    "\n",
    "client = ita.Account(config.email, config.password)"
   ]
  },
  {
   "cell_type": "code",
   "execution_count": null,
   "metadata": {},
   "outputs": [],
   "source": [
    "import mechanicalsoup\n",
    "from enum import Enum\n",
    "from collections import namedtuple\n",
    "from bs4 import BeautifulSoup\n",
    "import re\n",
    "\n",
    "class Account:\n",
    "    BASE_URL = 'http://www.investopedia.com'\n",
    "\n",
    "    def __init__(self, email, password):\n",
    "        \"\"\"\n",
    "        Logs a user into Investopedia's trading simulator,\n",
    "        given a *username* and *password*.\n",
    "        \"\"\"\n",
    "\n",
    "        self.br = br = mechanicalsoup.Browser()\n",
    "        login_page = self.fetch(\"/accounts/login.aspx?returnurl=http://www.investopedia.com/simulator/\")\n",
    "\n",
    "        # you have to select the form before you can input information to it\n",
    "        # the login form used to be at nr=2, now it's at nr=0\n",
    "        login_form = login_page.soup.select(\"form#account-api-form\")[0]\n",
    "        login_form.select(\"#edit-email\")[0][\"value\"] = email\n",
    "        login_form.select(\"#edit-password\")[0][\"value\"] = password\n",
    "        br.submit(login_form, login_page.url)\n",
    "\n",
    "    def fetch(self, url):\n",
    "        url = '%s%s' % (self.BASE_URL, url)\n",
    "        return self.br.get(url)\n"
   ]
  },
  {
   "cell_type": "code",
   "execution_count": null,
   "metadata": {},
   "outputs": [
    {
     "name": "stdout",
     "output_type": "stream",
     "text": [
      "<mechanicalsoup.browser.Browser object at 0x00000240CB0A1FA0>\n"
     ]
    }
   ],
   "source": [
    "print(mechanicalsoup.Browser())"
   ]
  },
  {
   "cell_type": "code",
   "execution_count": null,
   "metadata": {},
   "outputs": [
    {
     "data": {
      "text/plain": [
       "<Response [405]>"
      ]
     },
     "execution_count": 17,
     "metadata": {},
     "output_type": "execute_result"
    }
   ],
   "source": [
    "url = 'https://www.investopedia.com/auth/realms/investopedia/protocol/openid-connect/auth?state=0e46b55bdc7794591c4b092f8e4d14d4&scope=email&response_type=code&approval_prompt=auto&redirect_uri=https://www.investopedia.com/simulator/home.aspx&client_id=inv-simulator-conf'\n",
    "\n",
    "mechanicalsoup.Browser().get(url)"
   ]
  },
  {
   "cell_type": "code",
   "execution_count": null,
   "metadata": {},
   "outputs": [
    {
     "data": {
      "text/plain": [
       "<Response [405]>"
      ]
     },
     "execution_count": 18,
     "metadata": {},
     "output_type": "execute_result"
    }
   ],
   "source": [
    "import requests\n",
    "\n",
    "requests.get(url)"
   ]
  },
  {
   "cell_type": "code",
   "execution_count": null,
   "metadata": {},
   "outputs": [
    {
     "ename": "AttributeError",
     "evalue": "'NoneType' object has no attribute 'select'",
     "output_type": "error",
     "traceback": [
      "\u001b[1;31m---------------------------------------------------------------------------\u001b[0m",
      "\u001b[1;31mAttributeError\u001b[0m                            Traceback (most recent call last)",
      "\u001b[1;32m~\\AppData\\Local\\Temp/ipykernel_11892/3134687195.py\u001b[0m in \u001b[0;36m<module>\u001b[1;34m\u001b[0m\n\u001b[1;32m----> 1\u001b[1;33m \u001b[0mx\u001b[0m \u001b[1;33m=\u001b[0m \u001b[0mAccount\u001b[0m\u001b[1;33m(\u001b[0m\u001b[0mconfig\u001b[0m\u001b[1;33m.\u001b[0m\u001b[0memail\u001b[0m\u001b[1;33m,\u001b[0m \u001b[0mconfig\u001b[0m\u001b[1;33m.\u001b[0m\u001b[0mpassword\u001b[0m\u001b[1;33m)\u001b[0m\u001b[1;33m\u001b[0m\u001b[1;33m\u001b[0m\u001b[0m\n\u001b[0m",
      "\u001b[1;32m~\\AppData\\Local\\Temp/ipykernel_11892/888763456.py\u001b[0m in \u001b[0;36m__init__\u001b[1;34m(self, email, password)\u001b[0m\n\u001b[0;32m     19\u001b[0m         \u001b[1;31m# you have to select the form before you can input information to it\u001b[0m\u001b[1;33m\u001b[0m\u001b[1;33m\u001b[0m\u001b[0m\n\u001b[0;32m     20\u001b[0m         \u001b[1;31m# the login form used to be at nr=2, now it's at nr=0\u001b[0m\u001b[1;33m\u001b[0m\u001b[1;33m\u001b[0m\u001b[0m\n\u001b[1;32m---> 21\u001b[1;33m         \u001b[0mlogin_form\u001b[0m \u001b[1;33m=\u001b[0m \u001b[0mlogin_page\u001b[0m\u001b[1;33m.\u001b[0m\u001b[0msoup\u001b[0m\u001b[1;33m.\u001b[0m\u001b[0mselect\u001b[0m\u001b[1;33m(\u001b[0m\u001b[1;34m\"form#account-api-form\"\u001b[0m\u001b[1;33m)\u001b[0m\u001b[1;33m[\u001b[0m\u001b[1;36m0\u001b[0m\u001b[1;33m]\u001b[0m\u001b[1;33m\u001b[0m\u001b[1;33m\u001b[0m\u001b[0m\n\u001b[0m\u001b[0;32m     22\u001b[0m         \u001b[0mlogin_form\u001b[0m\u001b[1;33m.\u001b[0m\u001b[0mselect\u001b[0m\u001b[1;33m(\u001b[0m\u001b[1;34m\"#edit-email\"\u001b[0m\u001b[1;33m)\u001b[0m\u001b[1;33m[\u001b[0m\u001b[1;36m0\u001b[0m\u001b[1;33m]\u001b[0m\u001b[1;33m[\u001b[0m\u001b[1;34m\"value\"\u001b[0m\u001b[1;33m]\u001b[0m \u001b[1;33m=\u001b[0m \u001b[0memail\u001b[0m\u001b[1;33m\u001b[0m\u001b[1;33m\u001b[0m\u001b[0m\n\u001b[0;32m     23\u001b[0m         \u001b[0mlogin_form\u001b[0m\u001b[1;33m.\u001b[0m\u001b[0mselect\u001b[0m\u001b[1;33m(\u001b[0m\u001b[1;34m\"#edit-password\"\u001b[0m\u001b[1;33m)\u001b[0m\u001b[1;33m[\u001b[0m\u001b[1;36m0\u001b[0m\u001b[1;33m]\u001b[0m\u001b[1;33m[\u001b[0m\u001b[1;34m\"value\"\u001b[0m\u001b[1;33m]\u001b[0m \u001b[1;33m=\u001b[0m \u001b[0mpassword\u001b[0m\u001b[1;33m\u001b[0m\u001b[1;33m\u001b[0m\u001b[0m\n",
      "\u001b[1;31mAttributeError\u001b[0m: 'NoneType' object has no attribute 'select'"
     ]
    }
   ],
   "source": [
    "x = Account(config.email, config.password)"
   ]
  },
  {
   "cell_type": "code",
   "execution_count": null,
   "metadata": {},
   "outputs": [],
   "source": []
  }
 ],
 "metadata": {
  "kernelspec": {
   "display_name": "base",
   "language": "python",
   "name": "python3"
  },
  "language_info": {
   "codemirror_mode": {
    "name": "ipython",
    "version": 3
   },
   "file_extension": ".py",
   "mimetype": "text/x-python",
   "name": "python",
   "nbconvert_exporter": "python",
   "pygments_lexer": "ipython3",
   "version": "3.9.7"
  },
  "orig_nbformat": 4
 },
 "nbformat": 4,
 "nbformat_minor": 2
}
